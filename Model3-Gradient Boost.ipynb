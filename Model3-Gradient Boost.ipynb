{
 "cells": [
  {
   "cell_type": "code",
   "execution_count": 99,
   "metadata": {},
   "outputs": [],
   "source": [
    "# Imports\n",
    "# Imports\n",
    "import pandas as pd\n",
    "from pathlib import Path\n",
    "from sklearn.preprocessing import StandardScaler\n",
    "from sklearn.model_selection import train_test_split\n",
    "from sklearn.ensemble import GradientBoostingRegressor\n",
    "from sklearn import ensemble\n",
    "from sklearn import metrics"
   ]
  },
  {
   "cell_type": "code",
   "execution_count": 100,
   "metadata": {},
   "outputs": [],
   "source": [
    "# Import the  dataset into a Pandas Dataframe\n",
    "House_DF = pd.read_csv(Path(\"./Resources/kc_house_data.csv\"),)"
   ]
  },
  {
   "cell_type": "code",
   "execution_count": 101,
   "metadata": {},
   "outputs": [],
   "source": [
    "#Drop unnecessary columns \n",
    "X = House_DF.drop(['id', 'price', 'date', 'zipcode'],axis=1)"
   ]
  },
  {
   "cell_type": "code",
   "execution_count": 102,
   "metadata": {},
   "outputs": [],
   "source": [
    "#Declare y Variable\n",
    "y = House_DF['price']"
   ]
  },
  {
   "cell_type": "code",
   "execution_count": 103,
   "metadata": {},
   "outputs": [],
   "source": [
    "#Training and testing variables\n",
    "x_train , x_test , y_train , y_test = train_test_split(X , y , test_size = 0.20,random_state = 40)\n",
    "X_scaler = StandardScaler()\n",
    "X_scaler.fit(x_train)\n",
    "X_train_scaled = X_scaler.transform(x_train)\n",
    "X_test_scaled = X_scaler.transform(x_test)"
   ]
  },
  {
   "cell_type": "code",
   "execution_count": 104,
   "metadata": {},
   "outputs": [
    {
     "data": {
      "text/plain": [
       "0.8649232396475794"
      ]
     },
     "execution_count": 104,
     "metadata": {},
     "output_type": "execute_result"
    }
   ],
   "source": [
    "#Gradient Boosting Model\n",
    "gbModel = ensemble.GradientBoostingRegressor(n_estimators = 100, max_depth = 3, min_samples_split = 20,\n",
    "          learning_rate = 0.1, loss='ls')\n",
    "gbModel.fit(X_train_scaled, y_train)\n",
    "gbModel.score(X_test_scaled,y_test)"
   ]
  },
  {
   "cell_type": "code",
   "execution_count": 105,
   "metadata": {},
   "outputs": [
    {
     "name": "stdout",
     "output_type": "stream",
     "text": [
      "MAE: 79720.20659793833\n"
     ]
    }
   ],
   "source": [
    "#Calculate Mean Absolute Error\n",
    "y_pred = gbModel.predict(X_test_scaled)\n",
    "print('MAE:', metrics.mean_absolute_error(y_test, y_pred))"
   ]
  },
  {
   "cell_type": "code",
   "execution_count": null,
   "metadata": {},
   "outputs": [],
   "source": []
  }
 ],
 "metadata": {
  "kernelspec": {
   "display_name": "dev",
   "language": "python",
   "name": "dev"
  },
  "language_info": {
   "codemirror_mode": {
    "name": "ipython",
    "version": 3
   },
   "file_extension": ".py",
   "mimetype": "text/x-python",
   "name": "python",
   "nbconvert_exporter": "python",
   "pygments_lexer": "ipython3",
   "version": "3.7.7"
  }
 },
 "nbformat": 4,
 "nbformat_minor": 4
}
